{
 "cells": [
  {
   "cell_type": "code",
   "execution_count": null,
   "metadata": {},
   "outputs": [],
   "source": [
    "def adjust_gamma(image, gamma = 1.0):\n",
    "    #build a lookup table mapping the pixel values [0. 255] to their adjusted\n",
    "    #gamma values. \n",
    "    invGamma = 1.0/ gamma\n",
    "    table = np.array([((i/255.0)** invGamma) *255\n",
    "        for i in np.arange(0, 256)]).astype(\"uint8\")\n",
    "    #apply gamma correction using the lookup table. \n",
    "    return cv2.LUT(image, table)\n"
   ]
  },
  {
   "cell_type": "code",
   "execution_count": null,
   "metadata": {},
   "outputs": [],
   "source": [
    "import numpy as np\n",
    "import cv2\n",
    "\n",
    "img = cv2.imread('../ImageProcessing/ImageProcessing/Underexposed.jpg')\n",
    "\n",
    "grayunderexposed = cv2.cvtColor(img, cv2.COLOR_BGR2GRAY)\n",
    "cv2.imshow('image', grayunderexposed)\n",
    "\n",
    "gamma = 0.5\n",
    "adjusted = adjust_gamma(grayunderexposed, gamma=gamma)\n",
    "cv2.putText(adjusted, \"g={}\".format(gamma), (10, 30),cv2.FONT_HERSHEY_SIMPLEX, 0.8, (0, 0, 255), 3)\n",
    "cv2.imshow(\"gammam image 1\", adjusted)\n",
    "\n",
    "cv2.waitKey(0)\n",
    "cv2.destroyAllWindows()"
   ]
  },
  {
   "cell_type": "code",
   "execution_count": null,
   "metadata": {},
   "outputs": [],
   "source": [
    "from matplotlib import pyplot as plt\n",
    "\n",
    "plt.hist(gray.ravel(),256,[0,256])\n",
    "plt.show()"
   ]
  },
  {
   "cell_type": "code",
   "execution_count": null,
   "metadata": {},
   "outputs": [],
   "source": [
    "plt.hist(adjusted.ravel(),256,[0,256])\n",
    "plt.show()"
   ]
  },
  {
   "cell_type": "code",
   "execution_count": null,
   "metadata": {},
   "outputs": [],
   "source": [
    "import numpy as np\n",
    "import cv2\n",
    "\n",
    "img = cv2.imread('../ImageProcessing/ImageProcessing/Overexposed.jpg')\n",
    "\n",
    "grayoverexposed = cv2.cvtColor(img, cv2.COLOR_BGR2GRAY)\n",
    "cv2.imshow('overexposedimage', grayoverexposed)\n",
    "\n",
    "gamma = 0.5\n",
    "adjusted = adjust_gamma(gray, gamma=gamma)\n",
    "cv2.putText(adjusted, \"g={}\".format(gamma), (10, 30),cv2.FONT_HERSHEY_SIMPLEX, 0.8, (0, 0, 255), 3)\n",
    "cv2.imshow(\"gammam image 2\", adjusted)\n",
    "\n",
    "cv2.waitKey(0)\n",
    "cv2.destroyAllWindows()"
   ]
  },
  {
   "cell_type": "code",
   "execution_count": null,
   "metadata": {},
   "outputs": [],
   "source": [
    "from matplotlib import pyplot as plt\n",
    "\n",
    "plt.hist(grayoverexposed.ravel(),256,[0,256])\n",
    "plt.show()"
   ]
  },
  {
   "cell_type": "code",
   "execution_count": null,
   "metadata": {},
   "outputs": [],
   "source": [
    "plt.hist(adjustednew.ravel(),256,[0,256])\n",
    "plt.show()"
   ]
  },
  {
   "cell_type": "code",
   "execution_count": 3,
   "metadata": {},
   "outputs": [
    {
     "data": {
      "text/plain": [
       "<Figure size 640x480 with 1 Axes>"
      ]
     },
     "metadata": {},
     "output_type": "display_data"
    }
   ],
   "source": [
    "#Question 2\n",
    "import cv2\n",
    "from matplotlib import pyplot as plt\n",
    "\n",
    "img = cv2.imread('../ImageProcessing/ImageProcessing/Underexposed.jpg')\n",
    "\n",
    "grayunderexposed = cv2.cvtColor(img, cv2.COLOR_BGR2GRAY)\n",
    "#cv2.imshow('image', grayunderexposed)\n",
    "underimg = cv2.equalizeHist(grayunderexposed)\n",
    "\n",
    "plt.hist(underimg.ravel(),256,[0,256])\n",
    "plt.show()\n"
   ]
  },
  {
   "cell_type": "code",
   "execution_count": 4,
   "metadata": {},
   "outputs": [
    {
     "data": {
      "image/png": "[encoded data removed]",
      "text/plain": [
       "<Figure size 432x288 with 1 Axes>"
      ]
     },
     "metadata": {
      "needs_background": "light"
     },
     "output_type": "display_data"
    }
   ],
   "source": [
    "img = cv2.imread('../ImageProcessing/ImageProcessing/Overexposed.jpg')\n",
    "\n",
    "grayoverexposed = cv2.cvtColor(img, cv2.COLOR_BGR2GRAY)\n",
    "cv2.imshow('image', grayoverexposed)\n",
    "overimg = cv2.equalizeHist(grayunderexposed)\n",
    "\n",
    "plt.hist(overimg.ravel(),256,[0,256])\n",
    "plt.show()"
   ]
  },
  {
   "cell_type": "code",
   "execution_count": null,
   "metadata": {},
   "outputs": [],
   "source": []
  }
 ],
 "metadata": {
  "kernelspec": {
   "display_name": "Python 3",
   "language": "python",
   "name": "python3"
  },
  "language_info": {
   "codemirror_mode": {
    "name": "ipython",
    "version": 3
   },
   "file_extension": ".py",
   "mimetype": "text/x-python",
   "name": "python",
   "nbconvert_exporter": "python",
   "pygments_lexer": "ipython3",
   "version": "3.7.3"
  }
 },
 "nbformat": 4,
 "nbformat_minor": 2
}
